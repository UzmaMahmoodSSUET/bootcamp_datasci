{
  "nbformat": 4,
  "nbformat_minor": 0,
  "metadata": {
    "colab": {
      "provenance": [],
      "authorship_tag": "ABX9TyMS4FuMe14Dx/WilGMS6XbP",
      "include_colab_link": true
    },
    "kernelspec": {
      "name": "python3",
      "display_name": "Python 3"
    },
    "language_info": {
      "name": "python"
    }
  },
  "cells": [
    {
      "cell_type": "markdown",
      "metadata": {
        "id": "view-in-github",
        "colab_type": "text"
      },
      "source": [
        "<a href=\"https://colab.research.google.com/github/UzmaMahmoodSSUET/bootcamp_datasci/blob/main/lung_cancer.ipynb\" target=\"_parent\"><img src=\"https://colab.research.google.com/assets/colab-badge.svg\" alt=\"Open In Colab\"/></a>"
      ]
    },
    {
      "cell_type": "code",
      "execution_count": 1,
      "metadata": {
        "colab": {
          "base_uri": "https://localhost:8080/"
        },
        "id": "WGlF6hBdFBl9",
        "outputId": "21b7d2d6-db0d-46cb-fa86-81d17f3293b3"
      },
      "outputs": [
        {
          "output_type": "stream",
          "name": "stdout",
          "text": [
            "Mounted at /content/drive\n"
          ]
        }
      ],
      "source": [
        "from google.colab import drive\n",
        "drive.mount('/content/drive')"
      ]
    },
    {
      "cell_type": "code",
      "source": [
        "from keras import layers\n",
        "from keras import models"
      ],
      "metadata": {
        "id": "YgLcEuy7FJh2"
      },
      "execution_count": 2,
      "outputs": []
    },
    {
      "cell_type": "code",
      "source": [
        "model = models.Sequential()\n",
        "model.add(layers.Conv2D(32, (3, 3), activation='relu',\n",
        "input_shape=(150, 150, 3)))\n",
        "model.add(layers.MaxPooling2D((2, 2)))"
      ],
      "metadata": {
        "id": "aO1835m-Gfj1"
      },
      "execution_count": 3,
      "outputs": []
    },
    {
      "cell_type": "code",
      "source": [
        "model.add(layers.Conv2D(64, (3, 3), activation='relu'))\n",
        "model.add(layers.MaxPooling2D((2, 2)))"
      ],
      "metadata": {
        "id": "FXFNOTbsGltj"
      },
      "execution_count": 4,
      "outputs": []
    },
    {
      "cell_type": "code",
      "source": [
        "model.add(layers.Conv2D(128, (3, 3), activation='relu'))\n",
        "model.add(layers.MaxPooling2D((2, 2)))"
      ],
      "metadata": {
        "id": "Zp8zd-VRGnvD"
      },
      "execution_count": 5,
      "outputs": []
    },
    {
      "cell_type": "code",
      "source": [
        "model.add(layers.Conv2D(128, (3, 3), activation='relu'))\n",
        "model.add(layers.MaxPooling2D((2, 2)))"
      ],
      "metadata": {
        "id": "88sM1rRiGrPU"
      },
      "execution_count": 6,
      "outputs": []
    },
    {
      "cell_type": "code",
      "source": [
        "model.add(layers.Flatten())\n",
        "model.add(layers.Dense(512, activation='relu'))\n",
        "model.add(layers.Dense(1, activation='sigmoid'))"
      ],
      "metadata": {
        "id": "icUGQxEYGtuE"
      },
      "execution_count": 7,
      "outputs": []
    },
    {
      "cell_type": "code",
      "source": [
        "from keras.preprocessing.image import ImageDataGenerator"
      ],
      "metadata": {
        "id": "3P9cIqVyGvzU"
      },
      "execution_count": 8,
      "outputs": []
    },
    {
      "cell_type": "code",
      "source": [
        "train_datagen = ImageDataGenerator(rescale=1./255)\n",
        "test_datagen = ImageDataGenerator(rescale=1./255)"
      ],
      "metadata": {
        "id": "rHstihPtGxps"
      },
      "execution_count": 9,
      "outputs": []
    },
    {
      "cell_type": "code",
      "source": [
        "train_generator = train_datagen.flow_from_directory(\n",
        "    \"/content/drive/MyDrive/lung_cancer_dataset/training\",\n",
        "    target_size=(150, 150),\n",
        "    batch_size=20,\n",
        "    class_mode='binary')\n"
      ],
      "metadata": {
        "colab": {
          "base_uri": "https://localhost:8080/"
        },
        "id": "roSmN6uBHHGk",
        "outputId": "db4471ed-561a-4570-aa91-72d3a9e58b8f"
      },
      "execution_count": 10,
      "outputs": [
        {
          "output_type": "stream",
          "name": "stdout",
          "text": [
            "Found 440 images belonging to 2 classes.\n"
          ]
        }
      ]
    },
    {
      "cell_type": "code",
      "source": [
        "from keras import optimizers\n",
        "model.compile(loss='binary_crossentropy',optimizer=optimizers.RMSprop(lr=1e-4),metrics=['acc'])"
      ],
      "metadata": {
        "colab": {
          "base_uri": "https://localhost:8080/"
        },
        "id": "-ou6quHuHI9M",
        "outputId": "8435e3d0-32a1-4d70-9a27-cbaee43fa7c4"
      },
      "execution_count": 11,
      "outputs": [
        {
          "output_type": "stream",
          "name": "stderr",
          "text": [
            "/usr/local/lib/python3.10/dist-packages/keras/optimizers/legacy/rmsprop.py:143: UserWarning: The `lr` argument is deprecated, use `learning_rate` instead.\n",
            "  super().__init__(name, **kwargs)\n"
          ]
        }
      ]
    },
    {
      "cell_type": "code",
      "source": [
        "history = model.fit_generator(\n",
        "    train_generator,\n",
        "    epochs=30)"
      ],
      "metadata": {
        "colab": {
          "base_uri": "https://localhost:8080/"
        },
        "id": "Eh009FenZWTR",
        "outputId": "b29f7b1d-35be-44d7-9030-2e35af08ef49"
      },
      "execution_count": 13,
      "outputs": [
        {
          "output_type": "stream",
          "name": "stderr",
          "text": [
            "<ipython-input-13-1bcbc5ac8797>:1: UserWarning: `Model.fit_generator` is deprecated and will be removed in a future version. Please use `Model.fit`, which supports generators.\n",
            "  history = model.fit_generator(\n"
          ]
        },
        {
          "output_type": "stream",
          "name": "stdout",
          "text": [
            "Epoch 1/30\n",
            "22/22 [==============================] - 33s 1s/step - loss: 0.6156 - acc: 0.6886\n",
            "Epoch 2/30\n",
            "22/22 [==============================] - 32s 1s/step - loss: 0.5098 - acc: 0.7705\n",
            "Epoch 3/30\n",
            "22/22 [==============================] - 32s 1s/step - loss: 0.4177 - acc: 0.8205\n",
            "Epoch 4/30\n",
            "22/22 [==============================] - 32s 1s/step - loss: 0.3763 - acc: 0.8250\n",
            "Epoch 5/30\n",
            "22/22 [==============================] - 32s 1s/step - loss: 0.3395 - acc: 0.8364\n",
            "Epoch 6/30\n",
            "22/22 [==============================] - 31s 1s/step - loss: 0.3174 - acc: 0.8659\n",
            "Epoch 7/30\n",
            "22/22 [==============================] - 32s 1s/step - loss: 0.2995 - acc: 0.8795\n",
            "Epoch 8/30\n",
            "22/22 [==============================] - 34s 2s/step - loss: 0.2786 - acc: 0.8886\n",
            "Epoch 9/30\n",
            "22/22 [==============================] - 31s 1s/step - loss: 0.2523 - acc: 0.8886\n",
            "Epoch 10/30\n",
            "22/22 [==============================] - 32s 1s/step - loss: 0.2490 - acc: 0.8909\n",
            "Epoch 11/30\n",
            "22/22 [==============================] - 31s 1s/step - loss: 0.2171 - acc: 0.9045\n",
            "Epoch 12/30\n",
            "22/22 [==============================] - 32s 1s/step - loss: 0.2204 - acc: 0.9045\n",
            "Epoch 13/30\n",
            "22/22 [==============================] - 31s 1s/step - loss: 0.2108 - acc: 0.9091\n",
            "Epoch 14/30\n",
            "22/22 [==============================] - 32s 1s/step - loss: 0.2025 - acc: 0.9091\n",
            "Epoch 15/30\n",
            "22/22 [==============================] - 34s 2s/step - loss: 0.1696 - acc: 0.9318\n",
            "Epoch 16/30\n",
            "22/22 [==============================] - 32s 1s/step - loss: 0.1733 - acc: 0.9364\n",
            "Epoch 17/30\n",
            "22/22 [==============================] - 33s 1s/step - loss: 0.1654 - acc: 0.9295\n",
            "Epoch 18/30\n",
            "22/22 [==============================] - 32s 1s/step - loss: 0.1623 - acc: 0.9227\n",
            "Epoch 19/30\n",
            "22/22 [==============================] - 31s 1s/step - loss: 0.1426 - acc: 0.9455\n",
            "Epoch 20/30\n",
            "22/22 [==============================] - 32s 1s/step - loss: 0.1319 - acc: 0.9477\n",
            "Epoch 21/30\n",
            "22/22 [==============================] - 32s 1s/step - loss: 0.1256 - acc: 0.9432\n",
            "Epoch 22/30\n",
            "22/22 [==============================] - 33s 1s/step - loss: 0.1146 - acc: 0.9523\n",
            "Epoch 23/30\n",
            "22/22 [==============================] - 32s 1s/step - loss: 0.0880 - acc: 0.9773\n",
            "Epoch 24/30\n",
            "22/22 [==============================] - 32s 1s/step - loss: 0.0948 - acc: 0.9614\n",
            "Epoch 25/30\n",
            "22/22 [==============================] - 31s 1s/step - loss: 0.0965 - acc: 0.9659\n",
            "Epoch 26/30\n",
            "22/22 [==============================] - 32s 1s/step - loss: 0.0885 - acc: 0.9727\n",
            "Epoch 27/30\n",
            "22/22 [==============================] - 31s 1s/step - loss: 0.0793 - acc: 0.9795\n",
            "Epoch 28/30\n",
            "22/22 [==============================] - 34s 2s/step - loss: 0.0655 - acc: 0.9705\n",
            "Epoch 29/30\n",
            "22/22 [==============================] - 34s 1s/step - loss: 0.0760 - acc: 0.9659\n",
            "Epoch 30/30\n",
            "22/22 [==============================] - 31s 1s/step - loss: 0.0538 - acc: 0.9795\n"
          ]
        }
      ]
    },
    {
      "cell_type": "code",
      "source": [
        "test_generator = test_datagen.flow_from_directory(\n",
        "                                '/content/drive/MyDrive/lung_cancer_dataset/test',\n",
        "                                target_size=(150,150),\n",
        "                                batch_size=20,\n",
        "                                class_mode='binary')"
      ],
      "metadata": {
        "colab": {
          "base_uri": "https://localhost:8080/"
        },
        "id": "QXTub89ZZfkp",
        "outputId": "013cf56c-b029-49b9-bddf-5528593f3e22"
      },
      "execution_count": 29,
      "outputs": [
        {
          "output_type": "stream",
          "name": "stdout",
          "text": [
            "Found 94 images belonging to 2 classes.\n"
          ]
        }
      ]
    },
    {
      "cell_type": "code",
      "source": [
        "from keras import optimizers\n",
        "model.compile(loss='binary_crossentropy',optimizer='rmsprop',metrics=['acc'])"
      ],
      "metadata": {
        "id": "acejzogeiWRf"
      },
      "execution_count": 26,
      "outputs": []
    },
    {
      "cell_type": "code",
      "source": [
        "model.evaluate(test_generator)"
      ],
      "metadata": {
        "colab": {
          "base_uri": "https://localhost:8080/"
        },
        "id": "0lUmPiE8ihyP",
        "outputId": "586c3111-c189-49a2-c530-b3b12371af60"
      },
      "execution_count": 30,
      "outputs": [
        {
          "output_type": "stream",
          "name": "stdout",
          "text": [
            "5/5 [==============================] - 2s 402ms/step - loss: 0.3272 - acc: 0.9043\n"
          ]
        },
        {
          "output_type": "execute_result",
          "data": {
            "text/plain": [
              "[0.3271648585796356, 0.9042553305625916]"
            ]
          },
          "metadata": {},
          "execution_count": 30
        }
      ]
    },
    {
      "cell_type": "code",
      "source": [
        "y_pred = model.predict(test_generator)\n",
        "y_pred\n"
      ],
      "metadata": {
        "colab": {
          "base_uri": "https://localhost:8080/"
        },
        "id": "oN1SxNLn4Bkz",
        "outputId": "265c8103-c9b4-4689-fffb-d66d81e3f68b"
      },
      "execution_count": 42,
      "outputs": [
        {
          "output_type": "stream",
          "name": "stdout",
          "text": [
            "5/5 [==============================] - 3s 660ms/step\n"
          ]
        },
        {
          "output_type": "execute_result",
          "data": {
            "text/plain": [
              "array([[9.93742049e-01],\n",
              "       [3.62788069e-06],\n",
              "       [7.32148910e-05],\n",
              "       [2.74158213e-02],\n",
              "       [5.30923195e-02],\n",
              "       [5.91930747e-03],\n",
              "       [4.25986666e-03],\n",
              "       [9.98794317e-01],\n",
              "       [1.11138448e-03],\n",
              "       [1.93165109e-01],\n",
              "       [1.71321305e-03],\n",
              "       [9.82278705e-01],\n",
              "       [9.99089479e-01],\n",
              "       [1.59356780e-02],\n",
              "       [8.50318279e-03],\n",
              "       [6.78112637e-03],\n",
              "       [1.11887775e-05],\n",
              "       [6.11730032e-02],\n",
              "       [9.97314572e-01],\n",
              "       [2.09080918e-05],\n",
              "       [4.22461890e-02],\n",
              "       [1.81246141e-05],\n",
              "       [3.31777451e-03],\n",
              "       [6.19991004e-01],\n",
              "       [9.95905519e-01],\n",
              "       [8.61185777e-04],\n",
              "       [9.91188347e-01],\n",
              "       [8.50318279e-03],\n",
              "       [9.91425395e-01],\n",
              "       [2.47738883e-03],\n",
              "       [9.74260569e-01],\n",
              "       [3.03999358e-03],\n",
              "       [9.82488453e-01],\n",
              "       [6.50112629e-01],\n",
              "       [9.97567654e-01],\n",
              "       [8.21246533e-04],\n",
              "       [9.97874916e-01],\n",
              "       [3.97459567e-02],\n",
              "       [1.37823154e-04],\n",
              "       [2.07524793e-03],\n",
              "       [4.78599104e-05],\n",
              "       [8.34440947e-01],\n",
              "       [6.86960819e-04],\n",
              "       [3.49624194e-02],\n",
              "       [9.88456011e-01],\n",
              "       [9.67723370e-01],\n",
              "       [9.99538064e-01],\n",
              "       [9.98114169e-01],\n",
              "       [8.87931585e-02],\n",
              "       [9.99708831e-01],\n",
              "       [9.69630957e-04],\n",
              "       [9.50940788e-01],\n",
              "       [1.24594173e-03],\n",
              "       [9.75255251e-01],\n",
              "       [4.27238703e-01],\n",
              "       [5.63059807e-01],\n",
              "       [4.08498555e-01],\n",
              "       [1.76323295e-01],\n",
              "       [9.03968632e-01],\n",
              "       [9.33287084e-01],\n",
              "       [9.87617791e-01],\n",
              "       [4.15671356e-02],\n",
              "       [1.45916257e-03],\n",
              "       [9.35940444e-03],\n",
              "       [5.50458708e-06],\n",
              "       [9.85598326e-01],\n",
              "       [1.39198437e-01],\n",
              "       [1.09308385e-04],\n",
              "       [9.83911455e-01],\n",
              "       [6.65961020e-03],\n",
              "       [3.28045317e-05],\n",
              "       [1.50790051e-01],\n",
              "       [9.00339127e-01],\n",
              "       [9.66605246e-01],\n",
              "       [9.45598960e-01],\n",
              "       [6.55241668e-01],\n",
              "       [4.63626347e-02],\n",
              "       [1.66433915e-01],\n",
              "       [9.90543425e-01],\n",
              "       [9.99540687e-01],\n",
              "       [1.16507590e-01],\n",
              "       [2.72055436e-03],\n",
              "       [8.82150352e-01],\n",
              "       [9.49468315e-01],\n",
              "       [9.22854424e-01],\n",
              "       [4.94194329e-02],\n",
              "       [9.82324004e-01],\n",
              "       [4.27291216e-03],\n",
              "       [2.11438024e-03],\n",
              "       [1.28425984e-03],\n",
              "       [9.61273372e-01],\n",
              "       [9.79404330e-01],\n",
              "       [2.71262052e-05],\n",
              "       [2.70245045e-01]], dtype=float32)"
            ]
          },
          "metadata": {},
          "execution_count": 42
        }
      ]
    },
    {
      "cell_type": "code",
      "source": [
        "y_pred = [1 if y>0.5 else 0 for y in y_pred]\n",
        "y_pred"
      ],
      "metadata": {
        "colab": {
          "base_uri": "https://localhost:8080/"
        },
        "id": "kxafnJSx7ETi",
        "outputId": "7fc0b7ca-3971-4124-fd99-5053d0b15607"
      },
      "execution_count": 43,
      "outputs": [
        {
          "output_type": "execute_result",
          "data": {
            "text/plain": [
              "[1,\n",
              " 0,\n",
              " 0,\n",
              " 0,\n",
              " 0,\n",
              " 0,\n",
              " 0,\n",
              " 1,\n",
              " 0,\n",
              " 0,\n",
              " 0,\n",
              " 1,\n",
              " 1,\n",
              " 0,\n",
              " 0,\n",
              " 0,\n",
              " 0,\n",
              " 0,\n",
              " 1,\n",
              " 0,\n",
              " 0,\n",
              " 0,\n",
              " 0,\n",
              " 1,\n",
              " 1,\n",
              " 0,\n",
              " 1,\n",
              " 0,\n",
              " 1,\n",
              " 0,\n",
              " 1,\n",
              " 0,\n",
              " 1,\n",
              " 1,\n",
              " 1,\n",
              " 0,\n",
              " 1,\n",
              " 0,\n",
              " 0,\n",
              " 0,\n",
              " 0,\n",
              " 1,\n",
              " 0,\n",
              " 0,\n",
              " 1,\n",
              " 1,\n",
              " 1,\n",
              " 1,\n",
              " 0,\n",
              " 1,\n",
              " 0,\n",
              " 1,\n",
              " 0,\n",
              " 1,\n",
              " 0,\n",
              " 1,\n",
              " 0,\n",
              " 0,\n",
              " 1,\n",
              " 1,\n",
              " 1,\n",
              " 0,\n",
              " 0,\n",
              " 0,\n",
              " 0,\n",
              " 1,\n",
              " 0,\n",
              " 0,\n",
              " 1,\n",
              " 0,\n",
              " 0,\n",
              " 0,\n",
              " 1,\n",
              " 1,\n",
              " 1,\n",
              " 1,\n",
              " 0,\n",
              " 0,\n",
              " 1,\n",
              " 1,\n",
              " 0,\n",
              " 0,\n",
              " 1,\n",
              " 1,\n",
              " 1,\n",
              " 0,\n",
              " 1,\n",
              " 0,\n",
              " 0,\n",
              " 0,\n",
              " 1,\n",
              " 1,\n",
              " 0,\n",
              " 0]"
            ]
          },
          "metadata": {},
          "execution_count": 43
        }
      ]
    },
    {
      "cell_type": "code",
      "source": [
        "import seaborn as sns\n",
        "from sklearn.metrics import confusion_matrix,classification_report\n",
        "import numpy as np\n",
        "report = classification_report(test_labels, (y_pred))\n",
        "print(report)"
      ],
      "metadata": {
        "colab": {
          "base_uri": "https://localhost:8080/"
        },
        "id": "ArMXEsqy7S8i",
        "outputId": "5542691e-9917-46a8-9e5c-86f7cca0e5cc"
      },
      "execution_count": 44,
      "outputs": [
        {
          "output_type": "stream",
          "name": "stdout",
          "text": [
            "              precision    recall  f1-score   support\n",
            "\n",
            "           0       0.54      0.62      0.57        47\n",
            "           1       0.55      0.47      0.51        47\n",
            "\n",
            "    accuracy                           0.54        94\n",
            "   macro avg       0.54      0.54      0.54        94\n",
            "weighted avg       0.54      0.54      0.54        94\n",
            "\n"
          ]
        }
      ]
    },
    {
      "cell_type": "code",
      "source": [
        "confusion = confusion_matrix(test_labels, y_pred)\n",
        "confusion\n",
        "import seaborn as sns\n",
        "sns.heatmap(confusion, annot=True)"
      ],
      "metadata": {
        "colab": {
          "base_uri": "https://localhost:8080/",
          "height": 447
        },
        "id": "M-qdHS-f9QuJ",
        "outputId": "828728de-de68-4476-c123-31a3ad2362ee"
      },
      "execution_count": 47,
      "outputs": [
        {
          "output_type": "execute_result",
          "data": {
            "text/plain": [
              "<Axes: >"
            ]
          },
          "metadata": {},
          "execution_count": 47
        },
        {
          "output_type": "display_data",
          "data": {
            "text/plain": [
              "<Figure size 640x480 with 2 Axes>"
            ],
            "image/png": "[encoded data removed]"
          },
          "metadata": {}
        }
      ]
    },
    {
      "cell_type": "code",
      "source": [],
      "metadata": {
        "id": "6ANh0876-rOq"
      },
      "execution_count": null,
      "outputs": []
    }
  ]
}