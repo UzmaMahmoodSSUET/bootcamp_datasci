{
  "cells": [
    {
      "cell_type": "markdown",
      "metadata": {
        "id": "view-in-github",
        "colab_type": "text"
      },
      "source": [
        "<a href=\"https://colab.research.google.com/github/UzmaMahmoodSSUET/bootcamp_datasci/blob/main/Reutors_example_2.ipynb\" target=\"_parent\"><img src=\"https://colab.research.google.com/assets/colab-badge.svg\" alt=\"Open In Colab\"/></a>"
      ]
    },
    {
      "cell_type": "code",
      "execution_count": 1,
      "id": "bd4b32e8",
      "metadata": {
        "id": "bd4b32e8"
      },
      "outputs": [],
      "source": [
        "import pandas as pd\n",
        "from sklearn.cluster import KMeans\n",
        "import numpy as np\n",
        "import matplotlib.pyplot as plt\n",
        "from matplotlib.ticker import NullFormatter\n",
        "import matplotlib.ticker as ticker\n",
        "from sklearn import preprocessing\n",
        "import random as rd"
      ]
    },
    {
      "cell_type": "code",
      "execution_count": 2,
      "id": "079fc755",
      "metadata": {
        "id": "079fc755"
      },
      "outputs": [],
      "source": [
        "from keras.datasets import reuters\n"
      ]
    },
    {
      "cell_type": "code",
      "execution_count": 3,
      "id": "976c064f",
      "metadata": {
        "colab": {
          "base_uri": "https://localhost:8080/"
        },
        "id": "976c064f",
        "outputId": "3bb75a7c-451e-4bfc-b992-9397c625dc1d"
      },
      "outputs": [
        {
          "output_type": "stream",
          "name": "stdout",
          "text": [
            "Downloading data from https://storage.googleapis.com/tensorflow/tf-keras-datasets/reuters.npz\n",
            "2110848/2110848 [==============================] - 1s 0us/step\n"
          ]
        }
      ],
      "source": [
        "(train_data, train_labels), (test_data, test_labels) = reuters.load_data(\n",
        "num_words=10000)"
      ]
    },
    {
      "cell_type": "code",
      "execution_count": 4,
      "id": "694c5c91",
      "metadata": {
        "colab": {
          "base_uri": "https://localhost:8080/"
        },
        "id": "694c5c91",
        "outputId": "1c47e723-e880-47c5-a2c9-e9b969ecafbd"
      },
      "outputs": [
        {
          "output_type": "execute_result",
          "data": {
            "text/plain": [
              "8982"
            ]
          },
          "metadata": {},
          "execution_count": 4
        }
      ],
      "source": [
        "len(train_data)\n"
      ]
    },
    {
      "cell_type": "code",
      "execution_count": 5,
      "id": "97733a4b",
      "metadata": {
        "colab": {
          "base_uri": "https://localhost:8080/"
        },
        "id": "97733a4b",
        "outputId": "78579486-8ff3-4498-d697-0a157cde4a94"
      },
      "outputs": [
        {
          "output_type": "execute_result",
          "data": {
            "text/plain": [
              "2246"
            ]
          },
          "metadata": {},
          "execution_count": 5
        }
      ],
      "source": [
        "len(test_data)"
      ]
    },
    {
      "cell_type": "code",
      "execution_count": 6,
      "id": "94966c84",
      "metadata": {
        "colab": {
          "base_uri": "https://localhost:8080/"
        },
        "id": "94966c84",
        "outputId": "ecd1c179-41a4-485f-cfda-19b24073a0e1"
      },
      "outputs": [
        {
          "output_type": "execute_result",
          "data": {
            "text/plain": [
              "[1,\n",
              " 245,\n",
              " 273,\n",
              " 207,\n",
              " 156,\n",
              " 53,\n",
              " 74,\n",
              " 160,\n",
              " 26,\n",
              " 14,\n",
              " 46,\n",
              " 296,\n",
              " 26,\n",
              " 39,\n",
              " 74,\n",
              " 2979,\n",
              " 3554,\n",
              " 14,\n",
              " 46,\n",
              " 4689,\n",
              " 4329,\n",
              " 86,\n",
              " 61,\n",
              " 3499,\n",
              " 4795,\n",
              " 14,\n",
              " 61,\n",
              " 451,\n",
              " 4329,\n",
              " 17,\n",
              " 12]"
            ]
          },
          "metadata": {},
          "execution_count": 6
        }
      ],
      "source": [
        "train_data[10]"
      ]
    },
    {
      "cell_type": "code",
      "execution_count": 7,
      "id": "cb2065b7",
      "metadata": {
        "colab": {
          "base_uri": "https://localhost:8080/"
        },
        "id": "cb2065b7",
        "outputId": "1c603231-31c6-4569-e57a-5a96155b4df4"
      },
      "outputs": [
        {
          "output_type": "stream",
          "name": "stdout",
          "text": [
            "Downloading data from https://storage.googleapis.com/tensorflow/tf-keras-datasets/reuters_word_index.json\n",
            "550378/550378 [==============================] - 0s 1us/step\n"
          ]
        }
      ],
      "source": [
        "word_index = reuters.get_word_index()\n",
        "reverse_word_index = dict([(value, key) for (key, value) in word_index.items()])\n",
        "decoded_newswire = ' '.join([reverse_word_index.get(i - 3, '?') for i in\n",
        "train_data[0]])"
      ]
    },
    {
      "cell_type": "code",
      "execution_count": 8,
      "id": "d4cacb5c",
      "metadata": {
        "colab": {
          "base_uri": "https://localhost:8080/"
        },
        "id": "d4cacb5c",
        "outputId": "855cf311-4f0c-41aa-9f6b-5e35ab6411c6"
      },
      "outputs": [
        {
          "output_type": "execute_result",
          "data": {
            "text/plain": [
              "3"
            ]
          },
          "metadata": {},
          "execution_count": 8
        }
      ],
      "source": [
        " train_labels[10]"
      ]
    },
    {
      "cell_type": "code",
      "execution_count": 9,
      "id": "29d859fa",
      "metadata": {
        "id": "29d859fa"
      },
      "outputs": [],
      "source": [
        "def vectorize_sequences(sequences, dimension=10000):\n",
        "    results = np.zeros((len(sequences), dimension))\n",
        "    for i, sequence in enumerate(sequences):\n",
        "        results[i, sequence] = 1.\n",
        "    return results"
      ]
    },
    {
      "cell_type": "code",
      "execution_count": 10,
      "id": "02fb94f2",
      "metadata": {
        "id": "02fb94f2"
      },
      "outputs": [],
      "source": [
        "x_train = vectorize_sequences(train_data)\n"
      ]
    },
    {
      "cell_type": "code",
      "execution_count": 11,
      "id": "c4d4d012",
      "metadata": {
        "id": "c4d4d012"
      },
      "outputs": [],
      "source": [
        "x_test = vectorize_sequences(test_data)"
      ]
    },
    {
      "cell_type": "code",
      "execution_count": 12,
      "id": "89e6b225",
      "metadata": {
        "id": "89e6b225"
      },
      "outputs": [],
      "source": [
        "def to_one_hot(labels, dimension=46):\n",
        "    results = np.zeros((len(labels), dimension))\n",
        "    for i, label in enumerate(labels):\n",
        "        results[i, label] = 1.\n",
        "    return results"
      ]
    },
    {
      "cell_type": "code",
      "execution_count": 13,
      "id": "173fdfa5",
      "metadata": {
        "id": "173fdfa5"
      },
      "outputs": [],
      "source": [
        "one_hot_train_labels = to_one_hot(train_labels)\n"
      ]
    },
    {
      "cell_type": "code",
      "execution_count": 14,
      "id": "6b81a566",
      "metadata": {
        "id": "6b81a566"
      },
      "outputs": [],
      "source": [
        "one_hot_test_labels = to_one_hot(test_labels)"
      ]
    },
    {
      "cell_type": "code",
      "execution_count": 15,
      "id": "872826aa",
      "metadata": {
        "id": "872826aa"
      },
      "outputs": [],
      "source": [
        "from keras.utils.np_utils import to_categorical"
      ]
    },
    {
      "cell_type": "code",
      "execution_count": 16,
      "id": "43632d15",
      "metadata": {
        "id": "43632d15"
      },
      "outputs": [],
      "source": [
        "one_hot_train_labels = to_categorical(train_labels)\n",
        "\n"
      ]
    },
    {
      "cell_type": "code",
      "execution_count": 17,
      "id": "0856f5c2",
      "metadata": {
        "id": "0856f5c2"
      },
      "outputs": [],
      "source": [
        "one_hot_test_labels = to_categorical(test_labels)"
      ]
    },
    {
      "cell_type": "code",
      "source": [
        "from keras import models\n",
        "from keras import layers"
      ],
      "metadata": {
        "id": "k0z-WQvdo3Qk"
      },
      "id": "k0z-WQvdo3Qk",
      "execution_count": 18,
      "outputs": []
    },
    {
      "cell_type": "code",
      "source": [
        "model = models.Sequential()\n",
        "model.add(layers.Dense(64, activation='relu', input_shape=(10000,)))\n",
        "model.add(layers.Dense(64, activation='relu'))\n",
        "model.add(layers.Dense(46, activation='softmax'))"
      ],
      "metadata": {
        "id": "cOrZQlgqo8Tb"
      },
      "id": "cOrZQlgqo8Tb",
      "execution_count": 19,
      "outputs": []
    },
    {
      "cell_type": "code",
      "source": [
        "model.compile(optimizer='rmsprop',\n",
        "loss='categorical_crossentropy',\n",
        "metrics=['accuracy'])"
      ],
      "metadata": {
        "id": "PjTmkurSpCTq"
      },
      "id": "PjTmkurSpCTq",
      "execution_count": 20,
      "outputs": []
    },
    {
      "cell_type": "code",
      "source": [
        "x_val = x_train[:1000]\n",
        "partial_x_train = x_train[1000:]\n",
        "y_val = one_hot_train_labels[:1000]\n",
        "partial_y_train = one_hot_train_labels[1000:]"
      ],
      "metadata": {
        "id": "g5bAl6DnpJIS"
      },
      "id": "g5bAl6DnpJIS",
      "execution_count": 21,
      "outputs": []
    },
    {
      "cell_type": "code",
      "source": [
        "history = model.fit(partial_x_train,\n",
        "partial_y_train,\n",
        "epochs=20,\n",
        "batch_size=512,\n",
        "validation_data=(x_val, y_val))"
      ],
      "metadata": {
        "colab": {
          "base_uri": "https://localhost:8080/"
        },
        "id": "o72f553FpN16",
        "outputId": "9eb50f24-b749-4519-b63e-408457ca2af2"
      },
      "id": "o72f553FpN16",
      "execution_count": 22,
      "outputs": [
        {
          "output_type": "stream",
          "name": "stdout",
          "text": [
            "Epoch 1/20\n",
            "16/16 [==============================] - 2s 78ms/step - loss: 2.8377 - accuracy: 0.4919 - val_loss: 1.9383 - val_accuracy: 0.6130\n",
            "Epoch 2/20\n",
            "16/16 [==============================] - 1s 55ms/step - loss: 1.5977 - accuracy: 0.6790 - val_loss: 1.4145 - val_accuracy: 0.6950\n",
            "Epoch 3/20\n",
            "16/16 [==============================] - 1s 55ms/step - loss: 1.1948 - accuracy: 0.7440 - val_loss: 1.1968 - val_accuracy: 0.7400\n",
            "Epoch 4/20\n",
            "16/16 [==============================] - 1s 54ms/step - loss: 0.9691 - accuracy: 0.7942 - val_loss: 1.0899 - val_accuracy: 0.7640\n",
            "Epoch 5/20\n",
            "16/16 [==============================] - 1s 52ms/step - loss: 0.7998 - accuracy: 0.8274 - val_loss: 1.0218 - val_accuracy: 0.7780\n",
            "Epoch 6/20\n",
            "16/16 [==============================] - 1s 50ms/step - loss: 0.6708 - accuracy: 0.8538 - val_loss: 0.9667 - val_accuracy: 0.7910\n",
            "Epoch 7/20\n",
            "16/16 [==============================] - 1s 51ms/step - loss: 0.5642 - accuracy: 0.8785 - val_loss: 0.9483 - val_accuracy: 0.7920\n",
            "Epoch 8/20\n",
            "16/16 [==============================] - 1s 55ms/step - loss: 0.4766 - accuracy: 0.8984 - val_loss: 0.8938 - val_accuracy: 0.8110\n",
            "Epoch 9/20\n",
            "16/16 [==============================] - 1s 50ms/step - loss: 0.4063 - accuracy: 0.9139 - val_loss: 0.8916 - val_accuracy: 0.8060\n",
            "Epoch 10/20\n",
            "16/16 [==============================] - 1s 54ms/step - loss: 0.3464 - accuracy: 0.9273 - val_loss: 0.8709 - val_accuracy: 0.8100\n",
            "Epoch 11/20\n",
            "16/16 [==============================] - 1s 90ms/step - loss: 0.3021 - accuracy: 0.9369 - val_loss: 0.8779 - val_accuracy: 0.8110\n",
            "Epoch 12/20\n",
            "16/16 [==============================] - 1s 92ms/step - loss: 0.2628 - accuracy: 0.9422 - val_loss: 0.8748 - val_accuracy: 0.8160\n",
            "Epoch 13/20\n",
            "16/16 [==============================] - 1s 58ms/step - loss: 0.2327 - accuracy: 0.9464 - val_loss: 0.8635 - val_accuracy: 0.8210\n",
            "Epoch 14/20\n",
            "16/16 [==============================] - 1s 53ms/step - loss: 0.2085 - accuracy: 0.9493 - val_loss: 0.8823 - val_accuracy: 0.8160\n",
            "Epoch 15/20\n",
            "16/16 [==============================] - 1s 55ms/step - loss: 0.1933 - accuracy: 0.9499 - val_loss: 0.9283 - val_accuracy: 0.8140\n",
            "Epoch 16/20\n",
            "16/16 [==============================] - 1s 54ms/step - loss: 0.1724 - accuracy: 0.9529 - val_loss: 0.9350 - val_accuracy: 0.8170\n",
            "Epoch 17/20\n",
            "16/16 [==============================] - 1s 57ms/step - loss: 0.1611 - accuracy: 0.9560 - val_loss: 0.9139 - val_accuracy: 0.8200\n",
            "Epoch 18/20\n",
            "16/16 [==============================] - 1s 55ms/step - loss: 0.1511 - accuracy: 0.9555 - val_loss: 0.9782 - val_accuracy: 0.8050\n",
            "Epoch 19/20\n",
            "16/16 [==============================] - 1s 52ms/step - loss: 0.1463 - accuracy: 0.9579 - val_loss: 0.9461 - val_accuracy: 0.8120\n",
            "Epoch 20/20\n",
            "16/16 [==============================] - 1s 54ms/step - loss: 0.1361 - accuracy: 0.9584 - val_loss: 1.0144 - val_accuracy: 0.8020\n"
          ]
        }
      ]
    },
    {
      "cell_type": "code",
      "source": [
        "import matplotlib.pyplot as pl"
      ],
      "metadata": {
        "id": "laRHjwNepWra"
      },
      "id": "laRHjwNepWra",
      "execution_count": 23,
      "outputs": []
    },
    {
      "cell_type": "code",
      "source": [
        "loss = history.history['loss']\n",
        "val_loss = history.history['val_loss']\n",
        "epochs = range(1, len(loss) + 1)\n",
        "plt.plot(epochs, loss, 'bo', label='Training loss')\n",
        "plt.plot(epochs, val_loss, 'b', label='Validation loss')\n",
        "plt.title('Training and validation loss')\n",
        "plt.xlabel('Epochs')\n",
        "plt.ylabel('Loss')\n",
        "plt.legend()\n",
        "plt.show()"
      ],
      "metadata": {
        "colab": {
          "base_uri": "https://localhost:8080/",
          "height": 472
        },
        "id": "BHIiPBwipfE6",
        "outputId": "a45a724d-23f9-4846-fe42-f64356ced92f"
      },
      "id": "BHIiPBwipfE6",
      "execution_count": 24,
      "outputs": [
        {
          "output_type": "display_data",
          "data": {
            "text/plain": [
              "<Figure size 640x480 with 1 Axes>"
            ],
            "image/png": "[encoded data removed]"
          },
          "metadata": {}
        }
      ]
    },
    {
      "cell_type": "code",
      "source": [
        "plt.clf()"
      ],
      "metadata": {
        "colab": {
          "base_uri": "https://localhost:8080/",
          "height": 34
        },
        "id": "l1V6uM5bqCPz",
        "outputId": "874d9ada-7d53-450c-cc0c-95892683e33d"
      },
      "id": "l1V6uM5bqCPz",
      "execution_count": 26,
      "outputs": [
        {
          "output_type": "display_data",
          "data": {
            "text/plain": [
              "<Figure size 640x480 with 0 Axes>"
            ]
          },
          "metadata": {}
        }
      ]
    },
    {
      "cell_type": "code",
      "source": [
        "acc = history.history['accuracy']\n",
        "val_acc = history.history['val_accuracy']\n",
        "plt.plot(epochs, acc, 'bo', label='Training acc')\n",
        "plt.plot(epochs, val_acc, 'b', label='Validation acc')\n",
        "plt.title('Training and validation accuracy')\n",
        "plt.xlabel('Epochs')\n",
        "plt.ylabel('Loss')\n",
        "plt.legend()\n",
        "plt.show()"
      ],
      "metadata": {
        "colab": {
          "base_uri": "https://localhost:8080/",
          "height": 472
        },
        "id": "MWzKD_txpkNK",
        "outputId": "4f5cf953-6ad8-4693-af53-e9d3a15a4052"
      },
      "id": "MWzKD_txpkNK",
      "execution_count": 28,
      "outputs": [
        {
          "output_type": "display_data",
          "data": {
            "text/plain": [
              "<Figure size 640x480 with 1 Axes>"
            ],
            "image/png": "[encoded data removed]"
          },
          "metadata": {}
        }
      ]
    },
    {
      "cell_type": "code",
      "source": [
        "model = models.Sequential()\n",
        "model.add(layers.Dense(64, activation='relu', input_shape=(10000,)))\n",
        "model.add(layers.Dense(64, activation='relu'))\n",
        "model.add(layers.Dense(46, activation='softmax'))\n",
        "model.compile(optimizer='rmsprop',\n",
        "loss='categorical_crossentropy',\n",
        "metrics=['accuracy'])\n",
        "model.fit(partial_x_train,\n",
        "partial_y_train,\n",
        "epochs=9,\n",
        "batch_size=512,\n",
        "validation_data=(x_val, y_val))\n",
        "results = model.evaluate(x_test, one_hot_test_labels)"
      ],
      "metadata": {
        "colab": {
          "base_uri": "https://localhost:8080/"
        },
        "id": "PxHYcMtKqA7k",
        "outputId": "642c9117-370e-4eee-f313-1174093fb773"
      },
      "id": "PxHYcMtKqA7k",
      "execution_count": 29,
      "outputs": [
        {
          "output_type": "stream",
          "name": "stdout",
          "text": [
            "Epoch 1/9\n",
            "16/16 [==============================] - 2s 96ms/step - loss: 2.6719 - accuracy: 0.4723 - val_loss: 1.7819 - val_accuracy: 0.6140\n",
            "Epoch 2/9\n",
            "16/16 [==============================] - 2s 97ms/step - loss: 1.5266 - accuracy: 0.6763 - val_loss: 1.3717 - val_accuracy: 0.6820\n",
            "Epoch 3/9\n",
            "16/16 [==============================] - 1s 60ms/step - loss: 1.1804 - accuracy: 0.7481 - val_loss: 1.1860 - val_accuracy: 0.7390\n",
            "Epoch 4/9\n",
            "16/16 [==============================] - 1s 54ms/step - loss: 0.9659 - accuracy: 0.7965 - val_loss: 1.0908 - val_accuracy: 0.7560\n",
            "Epoch 5/9\n",
            "16/16 [==============================] - 1s 57ms/step - loss: 0.8045 - accuracy: 0.8262 - val_loss: 1.0179 - val_accuracy: 0.7790\n",
            "Epoch 6/9\n",
            "16/16 [==============================] - 1s 54ms/step - loss: 0.6676 - accuracy: 0.8562 - val_loss: 0.9627 - val_accuracy: 0.8100\n",
            "Epoch 7/9\n",
            "16/16 [==============================] - 1s 53ms/step - loss: 0.5569 - accuracy: 0.8810 - val_loss: 0.9403 - val_accuracy: 0.7860\n",
            "Epoch 8/9\n",
            "16/16 [==============================] - 1s 51ms/step - loss: 0.4669 - accuracy: 0.9012 - val_loss: 0.8959 - val_accuracy: 0.8060\n",
            "Epoch 9/9\n",
            "16/16 [==============================] - 1s 53ms/step - loss: 0.3924 - accuracy: 0.9154 - val_loss: 0.8795 - val_accuracy: 0.8260\n",
            "71/71 [==============================] - 0s 4ms/step - loss: 0.9619 - accuracy: 0.7872\n"
          ]
        }
      ]
    },
    {
      "cell_type": "code",
      "source": [
        "results\n"
      ],
      "metadata": {
        "colab": {
          "base_uri": "https://localhost:8080/"
        },
        "id": "afLeI_1Jpqkh",
        "outputId": "daca9d36-894f-4655-f3f0-c772eb9c393e"
      },
      "id": "afLeI_1Jpqkh",
      "execution_count": 30,
      "outputs": [
        {
          "output_type": "execute_result",
          "data": {
            "text/plain": [
              "[0.9619179964065552, 0.7871772050857544]"
            ]
          },
          "metadata": {},
          "execution_count": 30
        }
      ]
    },
    {
      "cell_type": "code",
      "source": [
        "import copy\n",
        "test_labels_copy = copy.copy(test_labels)\n",
        "np.random.shuffle(test_labels_copy)\n",
        "hits_array = np.array(test_labels) == np.array(test_labels_copy)\n",
        "float(np.sum(hits_array)) / len(test_labels)"
      ],
      "metadata": {
        "colab": {
          "base_uri": "https://localhost:8080/"
        },
        "id": "0ONcsN-Nqvy6",
        "outputId": "901dbe59-2095-46fd-f4f8-2c7acb9bf941"
      },
      "id": "0ONcsN-Nqvy6",
      "execution_count": 31,
      "outputs": [
        {
          "output_type": "execute_result",
          "data": {
            "text/plain": [
              "0.18210151380231523"
            ]
          },
          "metadata": {},
          "execution_count": 31
        }
      ]
    },
    {
      "cell_type": "code",
      "source": [
        "predictions = model.predict(x_test)"
      ],
      "metadata": {
        "colab": {
          "base_uri": "https://localhost:8080/"
        },
        "id": "CCu42snxrAbx",
        "outputId": "76870962-d92e-4aab-ce77-11d1ee4d9242"
      },
      "id": "CCu42snxrAbx",
      "execution_count": 32,
      "outputs": [
        {
          "output_type": "stream",
          "name": "stdout",
          "text": [
            "71/71 [==============================] - 1s 6ms/step\n"
          ]
        }
      ]
    },
    {
      "cell_type": "code",
      "source": [
        " predictions[0].shape"
      ],
      "metadata": {
        "colab": {
          "base_uri": "https://localhost:8080/"
        },
        "id": "D85PHjqIrGEh",
        "outputId": "11728793-fe23-472d-c722-429e1e53dd54"
      },
      "id": "D85PHjqIrGEh",
      "execution_count": 33,
      "outputs": [
        {
          "output_type": "execute_result",
          "data": {
            "text/plain": [
              "(46,)"
            ]
          },
          "metadata": {},
          "execution_count": 33
        }
      ]
    },
    {
      "cell_type": "code",
      "source": [
        "np.sum(predictions[0])"
      ],
      "metadata": {
        "colab": {
          "base_uri": "https://localhost:8080/"
        },
        "id": "JmEsSz85tdUc",
        "outputId": "62050ea3-d658-4116-8533-c1d3b6fd7448"
      },
      "id": "JmEsSz85tdUc",
      "execution_count": 36,
      "outputs": [
        {
          "output_type": "execute_result",
          "data": {
            "text/plain": [
              "1.0000001"
            ]
          },
          "metadata": {},
          "execution_count": 36
        }
      ]
    },
    {
      "cell_type": "code",
      "source": [
        "np.argmax(predictions[0])"
      ],
      "metadata": {
        "colab": {
          "base_uri": "https://localhost:8080/"
        },
        "id": "D9Dt4HWOsOtx",
        "outputId": "034049c3-3ff4-4c39-ad77-eb58d178aedb"
      },
      "id": "D9Dt4HWOsOtx",
      "execution_count": 35,
      "outputs": [
        {
          "output_type": "execute_result",
          "data": {
            "text/plain": [
              "3"
            ]
          },
          "metadata": {},
          "execution_count": 35
        }
      ]
    },
    {
      "cell_type": "code",
      "source": [
        "y_train = np.array(train_labels)\n"
      ],
      "metadata": {
        "id": "8D11YJGYtBLZ"
      },
      "id": "8D11YJGYtBLZ",
      "execution_count": 37,
      "outputs": []
    },
    {
      "cell_type": "code",
      "source": [
        "y_test = np.array(test_labels)"
      ],
      "metadata": {
        "id": "oJq_sIW2tqVR"
      },
      "id": "oJq_sIW2tqVR",
      "execution_count": 38,
      "outputs": []
    },
    {
      "cell_type": "code",
      "source": [
        "model.compile(optimizer='rmsprop',\n",
        "loss='sparse_categorical_crossentropy',\n",
        "metrics=['acc'])"
      ],
      "metadata": {
        "id": "C7ZYQ8fZtrDR"
      },
      "id": "C7ZYQ8fZtrDR",
      "execution_count": 39,
      "outputs": []
    },
    {
      "cell_type": "code",
      "source": [
        "model = models.Sequential()\n",
        "model.add(layers.Dense(64, activation='relu', input_shape=(10000,)))\n",
        "model.add(layers.Dense(4, activation='relu'))\n",
        "model.add(layers.Dense(46, activation='softmax'))\n",
        "model.compile(optimizer='rmsprop',\n",
        "loss='categorical_crossentropy',\n",
        "metrics=['accuracy'])\n",
        "model.fit(partial_x_train,\n",
        "partial_y_train,\n",
        "epochs=20,\n",
        "batch_size=128,\n",
        "validation_data=(x_val, y_val))"
      ],
      "metadata": {
        "colab": {
          "base_uri": "https://localhost:8080/"
        },
        "id": "DdCG7LuWtzNh",
        "outputId": "41aaa18f-9947-48e6-bb60-19604e8fc3f4"
      },
      "id": "DdCG7LuWtzNh",
      "execution_count": 41,
      "outputs": [
        {
          "output_type": "stream",
          "name": "stdout",
          "text": [
            "Epoch 1/20\n",
            "63/63 [==============================] - 2s 22ms/step - loss: 2.7741 - accuracy: 0.4099 - val_loss: 2.0642 - val_accuracy: 0.5330\n",
            "Epoch 2/20\n",
            "63/63 [==============================] - 1s 18ms/step - loss: 1.8260 - accuracy: 0.5504 - val_loss: 1.6943 - val_accuracy: 0.5670\n",
            "Epoch 3/20\n",
            "63/63 [==============================] - 1s 18ms/step - loss: 1.5759 - accuracy: 0.5663 - val_loss: 1.5787 - val_accuracy: 0.5720\n",
            "Epoch 4/20\n",
            "63/63 [==============================] - 1s 18ms/step - loss: 1.4284 - accuracy: 0.6072 - val_loss: 1.4958 - val_accuracy: 0.6210\n",
            "Epoch 5/20\n",
            "63/63 [==============================] - 1s 18ms/step - loss: 1.3042 - accuracy: 0.6515 - val_loss: 1.4469 - val_accuracy: 0.6460\n",
            "Epoch 6/20\n",
            "63/63 [==============================] - 1s 18ms/step - loss: 1.2048 - accuracy: 0.6855 - val_loss: 1.4246 - val_accuracy: 0.6680\n",
            "Epoch 7/20\n",
            "63/63 [==============================] - 1s 18ms/step - loss: 1.1323 - accuracy: 0.7106 - val_loss: 1.4123 - val_accuracy: 0.6770\n",
            "Epoch 8/20\n",
            "63/63 [==============================] - 1s 18ms/step - loss: 1.0747 - accuracy: 0.7196 - val_loss: 1.3935 - val_accuracy: 0.6770\n",
            "Epoch 9/20\n",
            "63/63 [==============================] - 2s 27ms/step - loss: 1.0254 - accuracy: 0.7261 - val_loss: 1.4111 - val_accuracy: 0.6840\n",
            "Epoch 10/20\n",
            "63/63 [==============================] - 2s 30ms/step - loss: 0.9850 - accuracy: 0.7304 - val_loss: 1.4165 - val_accuracy: 0.6800\n",
            "Epoch 11/20\n",
            "63/63 [==============================] - 1s 18ms/step - loss: 0.9466 - accuracy: 0.7388 - val_loss: 1.4151 - val_accuracy: 0.6810\n",
            "Epoch 12/20\n",
            "63/63 [==============================] - 1s 18ms/step - loss: 0.9146 - accuracy: 0.7471 - val_loss: 1.4549 - val_accuracy: 0.6790\n",
            "Epoch 13/20\n",
            "63/63 [==============================] - 1s 18ms/step - loss: 0.8871 - accuracy: 0.7481 - val_loss: 1.4785 - val_accuracy: 0.6790\n",
            "Epoch 14/20\n",
            "63/63 [==============================] - 1s 18ms/step - loss: 0.8607 - accuracy: 0.7511 - val_loss: 1.4518 - val_accuracy: 0.6850\n",
            "Epoch 15/20\n",
            "63/63 [==============================] - 1s 18ms/step - loss: 0.8369 - accuracy: 0.7543 - val_loss: 1.5030 - val_accuracy: 0.6850\n",
            "Epoch 16/20\n",
            "63/63 [==============================] - 1s 18ms/step - loss: 0.8168 - accuracy: 0.7611 - val_loss: 1.5211 - val_accuracy: 0.6880\n",
            "Epoch 17/20\n",
            "63/63 [==============================] - 1s 18ms/step - loss: 0.7969 - accuracy: 0.7641 - val_loss: 1.5193 - val_accuracy: 0.6800\n",
            "Epoch 18/20\n",
            "63/63 [==============================] - 1s 18ms/step - loss: 0.7821 - accuracy: 0.7684 - val_loss: 1.5757 - val_accuracy: 0.6740\n",
            "Epoch 19/20\n",
            "63/63 [==============================] - 2s 24ms/step - loss: 0.7655 - accuracy: 0.7731 - val_loss: 1.6357 - val_accuracy: 0.6780\n",
            "Epoch 20/20\n",
            "63/63 [==============================] - 2s 31ms/step - loss: 0.7478 - accuracy: 0.7798 - val_loss: 1.6429 - val_accuracy: 0.6780\n"
          ]
        },
        {
          "output_type": "execute_result",
          "data": {
            "text/plain": [
              "<keras.callbacks.History at 0x7c8bb984ae90>"
            ]
          },
          "metadata": {},
          "execution_count": 41
        }
      ]
    },
    {
      "cell_type": "code",
      "source": [
        "results"
      ],
      "metadata": {
        "colab": {
          "base_uri": "https://localhost:8080/"
        },
        "id": "D42WQZEkubA4",
        "outputId": "04148962-bdf3-4aa4-dde4-2797a96b7135"
      },
      "id": "D42WQZEkubA4",
      "execution_count": 44,
      "outputs": [
        {
          "output_type": "execute_result",
          "data": {
            "text/plain": [
              "[0.9619179964065552, 0.7871772050857544]"
            ]
          },
          "metadata": {},
          "execution_count": 44
        }
      ]
    },
    {
      "cell_type": "code",
      "source": [],
      "metadata": {
        "id": "K2Q4u3QPvLXx"
      },
      "id": "K2Q4u3QPvLXx",
      "execution_count": null,
      "outputs": []
    }
  ],
  "metadata": {
    "kernelspec": {
      "display_name": "Python 3 (ipykernel)",
      "language": "python",
      "name": "python3"
    },
    "language_info": {
      "codemirror_mode": {
        "name": "ipython",
        "version": 3
      },
      "file_extension": ".py",
      "mimetype": "text/x-python",
      "name": "python",
      "nbconvert_exporter": "python",
      "pygments_lexer": "ipython3",
      "version": "3.11.3"
    },
    "colab": {
      "provenance": [],
      "include_colab_link": true
    }
  },
  "nbformat": 4,
  "nbformat_minor": 5
}